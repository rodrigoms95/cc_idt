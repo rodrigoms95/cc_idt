{
 "cells": [
  {
   "cell_type": "code",
   "execution_count": 1,
   "metadata": {},
   "outputs": [],
   "source": [
    "# Obtiene la curva de distribución acumulada del modelo.\n",
    "\n",
    "import os\n",
    "\n",
    "import numpy as np\n",
    "import pandas as pd\n",
    "\n",
    "import xarray as xr"
   ]
  },
  {
   "cell_type": "code",
   "execution_count": 2,
   "metadata": {},
   "outputs": [],
   "source": [
    "v = \"Pcp\"\n",
    "dims = [ \"XTIME\", \"XLAT\", \"XLONG\" ]\n",
    "\n",
    "# 2 futuro\n",
    "# 1 actual\n",
    "# 0 observado\n",
    "model = 2\n",
    "\n",
    "if model == 2:\n",
    "    path_d = \"../temp/WRF_2040_regrid_CHIRPS_days.nc\"\n",
    "    path_r = \"../temp/WRF_2040_regrid_CHIRPS_days_cdf.nc\"\n",
    "elif model == 1:\n",
    "    path_d = \"../temp/WRF_regrid_CHIRPS_days.nc\"\n",
    "    path_r = \"../temp/WRF_regrid_CHIRPS_days_cdf.nc\"\n",
    "else:\n",
    "    path_d = \"../data/CHIRPS_megalopolis.nc\"\n",
    "    path_r = \"../temp/CHIRPS_megalopolis_cdf.nc\"\n",
    "\n",
    "with xr.open_dataset(path_d) as ds:\n",
    "    if not model:\n",
    "        ds = ds.rename( {\"time\": \"XTIME\", \"longitude\": \"XLONG\", \n",
    "            \"latitude\": \"XLAT\", \"precip\": \"Pcp\"})\n",
    "\n",
    "    ds = ds[ [\"XTIME\", \"XLAT\", \"XLONG\", \"Pcp\"] ]\n",
    "    ds_2 = ds.drop_vars( list(ds.keys()) ).copy() \n",
    "    df = ds.to_dataframe().sort_index()\n",
    "\n",
    "    latitude = df.index.get_level_values(dims[1]).unique()\n",
    "    longitude = df.index.get_level_values(dims[2]).unique()\n",
    "\n",
    "    # Obtenemos la curva de distribución acumulada para cada celda.\n",
    "    df[\"q_model\"] = 0.0\n",
    "    for lat in latitude:\n",
    "        for lon in longitude:\n",
    "            df_c = df.loc[ (slice(None), lat, lon),\n",
    "                [v, \"q_model\"] ].sort_values(v)\n",
    "            df_c[\"q_model\"] = np.linspace(\n",
    "                1/df_c.shape[0], 1, df_c.shape[0] )\n",
    "            df.loc[ (slice(None), lat, lon), \"q_model\"\n",
    "                ] = df_c[\"q_model\"]\n",
    "\n",
    "    ds_2[\"q_model\"] = df[\"q_model\"].to_xarray()\n",
    "    ds[\"q_model\"] = ( dims, ds_2[\"q_model\"].values )\n",
    "    # Guardamos el archivo.\n",
    "    ds.to_netcdf( path_r, mode = \"w\" )"
   ]
  }
 ],
 "metadata": {
  "kernelspec": {
   "display_name": "xarray",
   "language": "python",
   "name": "python3"
  },
  "language_info": {
   "codemirror_mode": {
    "name": "ipython",
    "version": 3
   },
   "file_extension": ".py",
   "mimetype": "text/x-python",
   "name": "python",
   "nbconvert_exporter": "python",
   "pygments_lexer": "ipython3",
   "version": "3.12.2"
  }
 },
 "nbformat": 4,
 "nbformat_minor": 2
}
