{
 "cells": [
  {
   "cell_type": "code",
   "execution_count": 3,
   "metadata": {},
   "outputs": [],
   "source": [
    "# Hace compatible la resolución espacial de datos diarios con CHIRPS.\n",
    "\n",
    "import pandas as pd\n",
    "import xarray as xr\n",
    "\n",
    "ds_1 = xr.open_dataset(\"../temp/prec_hist_hist_days.nc\")\n",
    "ds_1[\"XLONG\"] = ds_1[\"XLONG\"].isel(south_north = 0)\n",
    "ds_1[\"XLAT\"] = ds_1[\"XLAT\"].isel(west_east = 0)\n",
    "\n",
    "ds_2 = xr.open_dataset( \"../data/CHIRPS_megalopolis.nc\"\n",
    "    ).rename_dims( {\"time\": \"XTIME\", \"longitude\": \"XLONG\",\n",
    "    \"latitude\": \"XLAT\"} ).rename_vars( {\"time\": \"XTIME\",\n",
    "    \"longitude\": \"XLONG\", \"latitude\": \"XLAT\", \"precip\": \"Pcp\"} )\n",
    "\n",
    "ds_1 = ds_1.swap_dims( {\"west_east\": \"XLONG\", \"south_north\": \"XLAT\"}\n",
    "    ).interp( {\"XLAT\": ds_2[\"XLAT\"], \"XLONG\": ds_2[\"XLONG\"]},\n",
    "    method = \"cubic\" ).rename_dims( {\"XLAT\": \"south_north\",\n",
    "    \"XLONG\": \"west_east\"} ).to_netcdf(\"../temp/prec_hist_comp_CHIRPS.nc\" )"
   ]
  },
  {
   "cell_type": "code",
   "execution_count": 1,
   "metadata": {},
   "outputs": [],
   "source": [
    "# Disminuye la resolución espacial de datos horarios.\n",
    "\n",
    "import pandas as pd\n",
    "import xarray as xr\n",
    "\n",
    "ds_1 = xr.open_dataset(\"../data/prec_hist_hist.nc\")\n",
    "ds_1[\"XLONG\"] = ds_1[\"XLONG\"].isel(south_north = 0)\n",
    "ds_1[\"XLAT\"] = ds_1[\"XLAT\"].isel(west_east = 0)\n",
    "ds_1 = ds_1.swap_dims( {\"west_east\": \"XLONG\", \"south_north\": \"XLAT\"} )\n",
    "ds_1.coarsen( {\"XLAT\": 2, \"XLONG\": 2} ).mean().rename_dims(\n",
    "    {\"XLAT\": \"south_north\", \"XLONG\": \"west_east\"}\n",
    "    ).to_netcdf(\"../temp/prec_hist_comp_estaciones.nc\")"
   ]
  }
 ],
 "metadata": {
  "kernelspec": {
   "display_name": "gv",
   "language": "python",
   "name": "python3"
  },
  "language_info": {
   "codemirror_mode": {
    "name": "ipython",
    "version": 3
   },
   "file_extension": ".py",
   "mimetype": "text/x-python",
   "name": "python",
   "nbconvert_exporter": "python",
   "pygments_lexer": "ipython3",
   "version": "3.9.9"
  },
  "orig_nbformat": 4
 },
 "nbformat": 4,
 "nbformat_minor": 2
}
