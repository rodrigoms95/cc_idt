{
 "cells": [
  {
   "cell_type": "code",
   "execution_count": 1,
   "metadata": {},
   "outputs": [],
   "source": [
    "import pandas as pd\n",
    "import xarray as xr\n",
    "\n",
    "from scipy import optimize as opt\n",
    "from scipy import stats"
   ]
  },
  {
   "cell_type": "code",
   "execution_count": 2,
   "metadata": {},
   "outputs": [
    {
     "data": {
      "text/plain": [
       "TIEMPO_RETORNO\n",
       "1.032258     0.96875\n",
       "1.066667     0.93750\n",
       "1.103448     0.90625\n",
       "1.142857     0.87500\n",
       "1.185185     0.84375\n",
       "1.230769     0.81250\n",
       "1.280000     0.78125\n",
       "1.333333     0.75000\n",
       "1.391304     0.71875\n",
       "1.454545     0.68750\n",
       "1.523810     0.65625\n",
       "1.600000     0.62500\n",
       "1.684211     0.59375\n",
       "1.777778     0.56250\n",
       "1.882353     0.53125\n",
       "2.000000     0.50000\n",
       "2.133333     0.46875\n",
       "2.285714     0.43750\n",
       "2.461538     0.40625\n",
       "2.666667     0.37500\n",
       "2.909091     0.34375\n",
       "3.200000     0.31250\n",
       "3.555556     0.28125\n",
       "4.000000     0.25000\n",
       "4.571429     0.21875\n",
       "5.333333     0.18750\n",
       "6.400000     0.15625\n",
       "8.000000     0.12500\n",
       "10.666667    0.09375\n",
       "16.000000    0.06250\n",
       "32.000000    0.03125\n",
       "Name: PROBABILIDAD, dtype: float64"
      ]
     },
     "execution_count": 2,
     "metadata": {},
     "output_type": "execute_result"
    }
   ],
   "source": [
    "path = \"../results/prec_miro_hist_hist_tretorno.nc\"\n",
    "path_1 = \"../results/prec_miro_hist_hist_tretorno_1.nc\"\n",
    "df = xr.open_dataset(path).to_dataframe()\n",
    "\n",
    "df.loc[(90, 90, 1), \"PROBABILIDAD\"]"
   ]
  },
  {
   "cell_type": "code",
   "execution_count": 3,
   "metadata": {},
   "outputs": [
    {
     "data": {
      "text/plain": [
       "array([0.98898712, 0.92303627, 0.89666945, 0.88345911, 0.84864468,\n",
       "       0.82158113, 0.82100579, 0.80976824, 0.735389  , 0.72017908,\n",
       "       0.66792676, 0.66666586, 0.66104862, 0.62814016, 0.62705607,\n",
       "       0.6003613 , 0.36377392, 0.35847926, 0.31535846, 0.30010497,\n",
       "       0.29663971, 0.25899195, 0.25034423, 0.24765579, 0.21353394,\n",
       "       0.20342284, 0.15152248, 0.12482662, 0.04727001, 0.0438078 ,\n",
       "       0.02327957])"
      ]
     },
     "execution_count": 3,
     "metadata": {},
     "output_type": "execute_result"
    }
   ],
   "source": [
    "params = stats.genextreme.fit(df.loc[(90, 90, 1), \"INTENSIDAD\"])\n",
    "stats.genextreme.sf(df.loc[(90, 90, 1), \"INTENSIDAD\"], *params)"
   ]
  },
  {
   "cell_type": "code",
   "execution_count": 5,
   "metadata": {},
   "outputs": [
    {
     "data": {
      "text/plain": [
       "(-0.08459465862054488, 20.053986783998646, 6.2893980125965125)"
      ]
     },
     "execution_count": 5,
     "metadata": {},
     "output_type": "execute_result"
    }
   ],
   "source": [
    "params"
   ]
  },
  {
   "cell_type": "code",
   "execution_count": 4,
   "metadata": {},
   "outputs": [
    {
     "data": {
      "text/plain": [
       "0.7179545797090455"
      ]
     },
     "execution_count": 4,
     "metadata": {},
     "output_type": "execute_result"
    }
   ],
   "source": [
    "stats.kstest(df.loc[(90, 90, 1), \"INTENSIDAD\"],\n",
    "    stats.genextreme(*params).cdf ).pvalue"
   ]
  }
 ],
 "metadata": {
  "kernelspec": {
   "display_name": "gv",
   "language": "python",
   "name": "python3"
  },
  "language_info": {
   "codemirror_mode": {
    "name": "ipython",
    "version": 3
   },
   "file_extension": ".py",
   "mimetype": "text/x-python",
   "name": "python",
   "nbconvert_exporter": "python",
   "pygments_lexer": "ipython3",
   "version": "3.9.9"
  },
  "orig_nbformat": 4
 },
 "nbformat": 4,
 "nbformat_minor": 2
}
