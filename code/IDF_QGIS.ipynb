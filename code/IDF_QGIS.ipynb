{
 "cells": [
  {
   "cell_type": "code",
   "execution_count": 8,
   "metadata": {},
   "outputs": [],
   "source": [
    "# Grafica las curvas IDT.\n",
    "\n",
    "import xarray as xr\n",
    "\n",
    "import rioxarray"
   ]
  },
  {
   "cell_type": "code",
   "execution_count": 12,
   "metadata": {},
   "outputs": [],
   "source": [
    "i = 0\n",
    "\n",
    "name = [ \"CHIRPS_megalopolis\", \"prec_hist_hist\" ]\n",
    "\n",
    "# D: duración.\n",
    "# T: tiempo de retorno.\n",
    "D = 4   # [horas]\n",
    "T = 200 # [años ]\n",
    "\n",
    "\n",
    "path_d = \"../results/\" + name[i] + \"/\" + name[i] + \"_idf_valores.nc\" \n",
    "path_r = ( \"../results/\" + name[i] + \"/Mapas/TIF/\" + name[i]\n",
    "    + \"_\" + str(D) + \"_horas_\" + str(T) + \"_años.tif\" )\n",
    "\n",
    "ds = xr.open_dataset( path_d ).sel( {\"DURACION\": D, \"TIEMPO_RETORNO\": T}\n",
    "    ).drop( [\"DURACION\", \"TIEMPO_RETORNO\"]\n",
    "    ).rename( {\"LONGITUD\": \"x\", \"LATITUD\": \"y\"} )\n",
    "\n",
    "ds.rio.to_raster(path_r)"
   ]
  }
 ],
 "metadata": {
  "kernelspec": {
   "display_name": "gv",
   "language": "python",
   "name": "python3"
  },
  "language_info": {
   "codemirror_mode": {
    "name": "ipython",
    "version": 3
   },
   "file_extension": ".py",
   "mimetype": "text/x-python",
   "name": "python",
   "nbconvert_exporter": "python",
   "pygments_lexer": "ipython3",
   "version": "3.9.9"
  },
  "orig_nbformat": 4
 },
 "nbformat": 4,
 "nbformat_minor": 2
}
