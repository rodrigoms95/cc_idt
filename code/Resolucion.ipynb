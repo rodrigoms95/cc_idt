{
 "cells": [
  {
   "cell_type": "code",
   "execution_count": 8,
   "metadata": {},
   "outputs": [],
   "source": [
    "# Disminuye la resolución espacial de datos horarios.\n",
    "\n",
    "import pandas as pd\n",
    "import xarray as xr\n",
    "\n",
    "fdir = [ \"../data/\", \"../temp/\",\n",
    "    \"../results/comp/prec_mroc_h20a_hist_prec_mroc_2040_2040/\" ]\n",
    "name = [ \"prec_era5_hist_hist.nc\", \"prec_mroc_hist_hist.nc\", \n",
    "    \"prec_mroc_h20a_hist.nc\", \"prec_mroc_2040_2040.nc\", \n",
    "    \"prec_hist_hist.nc\", \"prec_mroc_h20a_hist_prec_mroc_2040_2040.nc\" ]\n",
    "\n",
    "k = 5\n",
    "i = 3\n",
    "n = 5\n",
    "\n",
    "f = 0\n",
    "lon,   lat   = \"XLONG\",     \"XLAT\"\n",
    "lon_d, lat_d = \"west_east\", \"south_north\" \n",
    "if i == 5:\n",
    "    f = 2\n",
    "    lon,   lat   = \"LONGITUD\", \"LATITUD\"\n",
    "    lon_d, lat_d = \"LONGITUD\", \"LATITUD\"\n",
    "\n",
    "ds = xr.open_dataset(fdir[f] + name[i])\n",
    "if k != 0: ds = ds.isel( { lon_d: slice(k, -k), lat_d: slice(k, -k) } )\n",
    "if i != 5:\n",
    "    ds[lon] = ds[lon].isel( {lat_d: 0} )\n",
    "    ds[lat] = ds[lat].isel( {lon_d: 0})\n",
    "    ds = ds.swap_dims( {lon_d: lon, lat_d: lat} )\n",
    "ds = ds.coarsen( {lat: n, lon: n}, boundary = \"trim\" ).mean()\n",
    "if i != 5: ds = ds.rename_dims( {lon: lon_d, lat: lat_d} )\n",
    "ds.to_netcdf(fdir[1] + name[i][:-3] + \"_coarsen_\" + str(n) + \".nc\")"
   ]
  },
  {
   "cell_type": "code",
   "execution_count": 7,
   "metadata": {},
   "outputs": [],
   "source": [
    "# Hace compatible la resolución espacial de CHIRPS con WRF.\n",
    "\n",
    "import pandas as pd\n",
    "import xarray as xr\n",
    "\n",
    "ds_1 = xr.open_dataset(\"../temp/prec_hist_hist_days.nc\")\n",
    "ds_1[\"XLONG\"] = ds_1[\"XLONG\"].isel(south_north = 0)\n",
    "ds_1[\"XLAT\"] = ds_1[\"XLAT\"].isel(west_east = 0)\n",
    "\n",
    "ds_1 = ds_1.swap_dims( {\"west_east\": \"XLONG\", \"south_north\": \"XLAT\"} )\n",
    "\n",
    "ds_2 = xr.open_dataset( \"../temp/CHIRPS_comp_hist.nc\"\n",
    "    ).rename_dims( {\"time\": \"XTIME\", \"longitude\": \"XLONG\",\n",
    "    \"latitude\": \"XLAT\"} ).rename_vars( {\"time\": \"XTIME\",\n",
    "    \"longitude\": \"XLONG\", \"latitude\": \"XLAT\", \"precip\": \"Pcp\"}\n",
    "    ).interp( {\"XLAT\": ds_1[\"XLAT\"], \"XLONG\": ds_1[\"XLONG\"]},\n",
    "    method = \"cubic\" ).rename_dims( {\"XLAT\": \"latitude\",\n",
    "    \"XLONG\": \"longitude\", \"XTIME\": \"time\"} ).rename_vars( \n",
    "    {\"Pcp\": \"precip\", \"XTIME\": \"time\", \"XLONG\": \"longitude\",\n",
    "    \"XLAT\": \"latitude\"} )\n",
    "\n",
    "ds_2.to_netcdf(\"../temp/CHIRPS_interp_WRF.nc\" )"
   ]
  }
 ],
 "metadata": {
  "kernelspec": {
   "display_name": "gv",
   "language": "python",
   "name": "python3"
  },
  "language_info": {
   "codemirror_mode": {
    "name": "ipython",
    "version": 3
   },
   "file_extension": ".py",
   "mimetype": "text/x-python",
   "name": "python",
   "nbconvert_exporter": "python",
   "pygments_lexer": "ipython3",
   "version": "3.9.9"
  },
  "orig_nbformat": 4
 },
 "nbformat": 4,
 "nbformat_minor": 2
}
